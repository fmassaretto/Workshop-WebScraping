{
  "nbformat": 4,
  "nbformat_minor": 0,
  "metadata": {
    "colab": {
      "provenance": []
    },
    "kernelspec": {
      "name": "python3",
      "display_name": "Python 3"
    },
    "language_info": {
      "name": "python"
    }
  },
  "cells": [
    {
      "cell_type": "markdown",
      "source": [
        "# Workshop Web Scraping (Semana 3 - Pandas)"
      ],
      "metadata": {
        "id": "qas72WdvYNwB"
      }
    },
    {
      "cell_type": "markdown",
      "source": [
        "**Pandas** é uma biblioteca Python de código livre que é feita para trabalhar principalmente dados relacionais ou rotulados. Esta biblioteca Python é construída sobre a biblioteca NumPy, fornecendo várias operações e estruturas de dados para manipulação de dados numéricos e séries temporais. Pandas é rápido e possui alto desempenho e produtividade para os usuários.\n",
        "\n",
        "Temos duas formas de analise: Series e DataFrame"
      ],
      "metadata": {
        "id": "NKPOnJCGHdzR"
      }
    },
    {
      "cell_type": "markdown",
      "source": [
        "O Pandas simplifica a execução de muitas das tarefas repetitivas e demoradas associadas ao trabalho com dados, incluindo:\n",
        "\n",
        "1.   Limpeza de dados\n",
        "2.   Preenchimento de dados\n",
        "3.   Normalização de dados\n",
        "4.   Mesclar e juntar dados\n",
        "5.   Visualização de dados\n",
        "6.   Análise estatística\n",
        "7.   Inspeção de dados\n",
        "8.   Carregar e salvar dados"
      ],
      "metadata": {
        "id": "DEE848eaCAfS"
      }
    },
    {
      "cell_type": "code",
      "source": [
        "# Como já de costume importamos a biblioteca Pandas e damos um \"apelido\" de pd\n",
        "import pandas as pd"
      ],
      "metadata": {
        "id": "L9FrLAbRNaDY"
      },
      "execution_count": 2,
      "outputs": []
    },
    {
      "cell_type": "markdown",
      "source": [
        "# Pandas Series\n",
        "Series no Pandas é um array unidimensional (1-D) definido em pandas que pode ser usado para armazenar qualquer tipo de dados. Como se fosse um coluna em uma tabela.\n",
        "\n"
      ],
      "metadata": {
        "id": "rKggyT6HNgz7"
      }
    },
    {
      "cell_type": "markdown",
      "source": [
        "**Criar série de uma lista**\n",
        "\n",
        "Criação de séries com valores de índice predefinidos."
      ],
      "metadata": {
        "id": "j9jTRS_vRK3L"
      }
    },
    {
      "cell_type": "code",
      "source": [
        "data = [1, 7, 2] # dado numérico\n",
        "\n",
        "index = [\"x\", \"y\", \"z\"] # índices pré-definidos\n",
        "\n",
        "series = pd.Series(data, index)\n",
        "\n",
        "print(series)"
      ],
      "metadata": {
        "id": "GsMy9m78Ob4W",
        "colab": {
          "base_uri": "https://localhost:8080/"
        },
        "outputId": "d84b816e-ab75-4b17-ba83-6af081aa69b1"
      },
      "execution_count": null,
      "outputs": [
        {
          "output_type": "stream",
          "name": "stdout",
          "text": [
            "x    1\n",
            "y    7\n",
            "z    2\n",
            "dtype: int64\n"
          ]
        }
      ]
    },
    {
      "cell_type": "markdown",
      "source": [
        "Aqui, data pode ser:\n",
        "\n",
        "\n",
        "1.   Um valor escalar que pode conter, um numero inteiro, uma string\n",
        "2.   Python dicionario, com chave e valor\n",
        "3.   Um Ndarray (Array multidimensional)\n",
        "\n",
        "Lembrando que indices (index) por padrão começa por 0: 0, 1, 2 ..., (n-1)\n",
        "\n"
      ],
      "metadata": {
        "id": "qXBRhXEsPHIv"
      }
    },
    {
      "cell_type": "markdown",
      "source": [
        "**Criar uma série de Pandas a partir do dicionário**\n",
        "\n",
        "Criando séries no Pandas com Dicionário."
      ],
      "metadata": {
        "id": "zQYTjCteSeXZ"
      }
    },
    {
      "cell_type": "code",
      "source": [
        "# Dicionario em Python\n",
        "calories = {\"dia1\": 420, \"dia2\": 380, \"dia3\": 390}\n",
        "\n",
        "# Usando index diretamente na função Series\n",
        "series = pd.Series(calories, index = [\"dia1\", \"dia3\"])\n",
        "\n",
        "print(series)"
      ],
      "metadata": {
        "id": "WFoxbDk4OGL1",
        "colab": {
          "base_uri": "https://localhost:8080/"
        },
        "outputId": "d0189382-438e-46a3-adf3-60e5c6c5b8eb"
      },
      "execution_count": 8,
      "outputs": [
        {
          "output_type": "stream",
          "name": "stdout",
          "text": [
            "2\n"
          ]
        }
      ]
    },
    {
      "cell_type": "markdown",
      "source": [
        "**Converter um array em série Pandas**\n",
        "\n",
        "Criando uma séries de ndarray."
      ],
      "metadata": {
        "id": "paRcrvTtTu00"
      }
    },
    {
      "cell_type": "code",
      "source": [
        "# Definindo 2darray\n",
        "Data = [[2, 3, 4], [5, 6, 7]]\n",
        "\n",
        "# Criando Series de 2darray\n",
        "series_2darray = pd.Series(Data)\n",
        "\n",
        "print(series_2darray)"
      ],
      "metadata": {
        "id": "27dsnAl2T40n",
        "colab": {
          "base_uri": "https://localhost:8080/"
        },
        "outputId": "e95af08d-1c54-4557-9d45-686cf5f3e68f"
      },
      "execution_count": null,
      "outputs": [
        {
          "output_type": "stream",
          "name": "stdout",
          "text": [
            "0    [2, 3, 4]\n",
            "1    [5, 6, 7]\n",
            "dtype: object\n"
          ]
        }
      ]
    }
  ]
}